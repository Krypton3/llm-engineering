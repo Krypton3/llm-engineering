{
 "cells": [
  {
   "cell_type": "markdown",
   "id": "c14ad31c-9328-48c0-be47-28a74e396055",
   "metadata": {},
   "source": [
    "# Introduction to LLM Engineering"
   ]
  },
  {
   "cell_type": "markdown",
   "id": "39703916-ff07-460b-b7c5-bd39206b9dba",
   "metadata": {},
   "source": [
    "## Installing ollama\n",
    "\n",
    "URL: https://ollama.com/download "
   ]
  },
  {
   "cell_type": "markdown",
   "id": "927cf166-a2af-49a6-b8a0-a94d831b1b8a",
   "metadata": {},
   "source": [
    "### How to pull a model locally?\n",
    "!ollama pull llama3.2\n",
    "\n",
    "ollama commands:\n",
    "1. ollama --version\n",
    "2. ollama list\n",
    "3. ollama ps\n",
    "4. ollama show model_name"
   ]
  },
  {
   "cell_type": "code",
   "execution_count": 15,
   "id": "524206dc-885b-4533-9d00-336a4705ace7",
   "metadata": {},
   "outputs": [
    {
     "name": "stdout",
     "output_type": "stream",
     "text": [
      "  Model\n",
      "    architecture        llama     \n",
      "    parameters          3.2B      \n",
      "    context length      131072    \n",
      "    embedding length    3072      \n",
      "    quantization        Q4_K_M    \n",
      "\n",
      "  Capabilities\n",
      "    completion    \n",
      "    tools         \n",
      "\n",
      "  Parameters\n",
      "    stop    \"<|start_header_id|>\"    \n",
      "    stop    \"<|end_header_id|>\"      \n",
      "    stop    \"<|eot_id|>\"             \n",
      "\n",
      "  License\n",
      "    LLAMA 3.2 COMMUNITY LICENSE AGREEMENT                 \n",
      "    Llama 3.2 Version Release Date: September 25, 2024    \n",
      "    ...                                                   \n",
      "\n"
     ]
    }
   ],
   "source": [
    "!ollama show llama3.2"
   ]
  },
  {
   "cell_type": "markdown",
   "id": "dcaeb0a0-f150-4ecb-83f2-e40d08495649",
   "metadata": {},
   "source": [
    "## Connect to ollama"
   ]
  },
  {
   "cell_type": "code",
   "execution_count": 1,
   "id": "eb3b531c-aed0-457c-8dc4-d6c79441c2c9",
   "metadata": {},
   "outputs": [
    {
     "name": "stdout",
     "output_type": "stream",
     "text": [
      "I’m a large language model. When you ask me a question or provide me with a prompt, I analyze what you say and generate a response that is relevant and accurate. I'm constantly learning and improving, so over time I'll be even better at assisting you. Is there anything I can help you with?\n"
     ]
    }
   ],
   "source": [
    "from openai import OpenAI\n",
    "MODEL = \"llama3.2\"\n",
    "openai = OpenAI(base_url=\"http://localhost:11434/v1\", api_key=\"ollama\")\n",
    "response = openai.chat.completions.create(\n",
    "    model = MODEL,\n",
    "    messages=[{\"role\": \"user\", \"content\": \"What is your purpose?\"}]\n",
    ")\n",
    "print(response.choices[0].message.content)"
   ]
  },
  {
   "cell_type": "markdown",
   "id": "503e4158-5e3d-4996-831c-35e7f1a9b0f5",
   "metadata": {},
   "source": [
    "# Weather report in summary for your current location"
   ]
  },
  {
   "cell_type": "code",
   "execution_count": 25,
   "id": "495d47f9-776b-4763-8f53-c24ca67c1285",
   "metadata": {},
   "outputs": [],
   "source": [
    "# imports\n",
    "import os\n",
    "import requests\n",
    "from dotenv import load_dotenv\n",
    "from bs4 import BeautifulSoup\n",
    "from IPython.display import Markdown, display"
   ]
  },
  {
   "cell_type": "code",
   "execution_count": 26,
   "id": "319e4d3f-1d40-4462-bff9-ebb77360949b",
   "metadata": {},
   "outputs": [],
   "source": [
    "headers = {\n",
    " \"User-Agent\": \"Mozilla/5.0 (Windows NT 10.0; Win64; x64) AppleWebKit/537.36 (KHTML, like Gecko) Chrome/117.0.0.0 Safari/537.36\"\n",
    "}\n",
    "\n",
    "class Weather:\n",
    "    def __init__(self, url):\n",
    "        \"\"\"\n",
    "        This object will be used to fetch weather data from a given URL\n",
    "        \"\"\"\n",
    "        self.url = url\n",
    "        response = requests.get(url, headers=headers)\n",
    "        soup = BeautifulSoup(response.content, 'html.parser')\n",
    "        self.title = soup.title.string if soup.title else \"No title found\"\n",
    "        self.text = soup.body.get_text(separator=\"\\n\", strip=True)"
   ]
  },
  {
   "cell_type": "markdown",
   "id": "8d9dcba7-3f9e-4b9c-8845-5f3ff17667c4",
   "metadata": {},
   "source": [
    "## Prompts - System and User"
   ]
  },
  {
   "cell_type": "code",
   "execution_count": 27,
   "id": "f153ea92-9768-4987-a525-9ee5ccd19dae",
   "metadata": {},
   "outputs": [],
   "source": [
    "system_prompts = \"You are an helpful assitant that analyzer a weather website contant and provide short summary. Response in markdown.\""
   ]
  },
  {
   "cell_type": "code",
   "execution_count": 28,
   "id": "71794942-6b12-408c-a584-10fb49476536",
   "metadata": {},
   "outputs": [],
   "source": [
    "def user_prompt(website):\n",
    "    user_prompt = f\"You are looking at a website titled {website.title}\"\n",
    "    user_prompt += \"\\n The content of this website is as follows: \\\n",
    "                    Please provide a summary of this website in markdown. \\\n",
    "                    Properly state the current time, current weather, and current UV index in a separate paragraph in listing format. \\\n",
    "                    Create a pie chart to show the above information. \\n\\n\"\n",
    "    user_prompt += website.text\n",
    "    return user_prompt"
   ]
  },
  {
   "cell_type": "code",
   "execution_count": 29,
   "id": "2d75663c-b4ef-4415-9f33-86bfe01ae6ba",
   "metadata": {},
   "outputs": [],
   "source": [
    "def message_for(website):\n",
    "    return [\n",
    "        {\"role\": \"system\", \"content\": system_prompts},\n",
    "        {\"role\": \"user\", \"content\": user_prompt(website)}\n",
    "    ]"
   ]
  },
  {
   "cell_type": "code",
   "execution_count": 30,
   "id": "c9e82ae3-0de6-45c5-bfd3-066fc8291304",
   "metadata": {},
   "outputs": [],
   "source": [
    "def summarize(url):\n",
    "    website = Weather(url)\n",
    "    response = openai.chat.completions.create(\n",
    "        model = \"llama3.2\",\n",
    "        messages = message_for(website)\n",
    "    )\n",
    "    return response.choices[0].message.content"
   ]
  },
  {
   "cell_type": "code",
   "execution_count": 31,
   "id": "2400a74c-97c2-42b3-bf66-419526a70780",
   "metadata": {},
   "outputs": [
    {
     "data": {
      "text/plain": [
       "\"**Summary**\\nThe Calgary, AB Current Weather website provides current weather conditions, forecasts, and news. The website is updated regularly with the latest weather information, including temperature, humidity, wind, pressure, and precipitation.\\n\\n### Important Information\\n\\n* **Current Time**: Not available on this website\\n* **Current Weather**:\\n\\t+ Temperature: 25°C\\n\\t+ Conditions: Partly cloudy\\n\\t+ Feels like: 27°C\\n* **UV Index**: Not available on this website\\n\\nNote: The UV index is not provided on this website, so I couldn't include it in the above format. Here's a pie chart representing the current weather information:\\n```markdown\\n Pie Chart: Calgary, AB Current Weather\\n=====================================================\\n\\n       Temperature     | 25°C ( 77°F )\\n-------------------\\n       Conditions     | Partly cloudy\\n-------------------\\n         Feels like   | 27°C ( 81°F )\\n```\\nPlease note that this pie chart is a simplified representation and not visually appealing. The actual UV index value would be essential to create an accurate pie chart, which I couldn't include due to the lack of data on this website.\""
      ]
     },
     "execution_count": 31,
     "metadata": {},
     "output_type": "execute_result"
    }
   ],
   "source": [
    "summarize(\"https://www.theweathernetwork.com/en/city/ca/alberta/calgary/current\")"
   ]
  },
  {
   "cell_type": "code",
   "execution_count": null,
   "id": "76a622bf-76bd-438d-a9ff-567d6623cbcc",
   "metadata": {},
   "outputs": [],
   "source": []
  }
 ],
 "metadata": {
  "kernelspec": {
   "display_name": "Python 3 (ipykernel)",
   "language": "python",
   "name": "python3"
  },
  "language_info": {
   "codemirror_mode": {
    "name": "ipython",
    "version": 3
   },
   "file_extension": ".py",
   "mimetype": "text/x-python",
   "name": "python",
   "nbconvert_exporter": "python",
   "pygments_lexer": "ipython3",
   "version": "3.11.13"
  }
 },
 "nbformat": 4,
 "nbformat_minor": 5
}
